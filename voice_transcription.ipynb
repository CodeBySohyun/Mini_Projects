{
 "cells": [
  {
   "cell_type": "code",
   "execution_count": null,
   "metadata": {},
   "outputs": [],
   "source": [
    "from pydub import AudioSegment, utils\n",
    "import speech_recognition as sr\n",
    "import os\n",
    "from tqdm.notebook import tqdm\n",
    "\n",
    "def convert_and_chunk(m4a_file_path, output_folder):\n",
    "    # Extract the base name of the file for creating the text file\n",
    "    base_name = os.path.splitext(os.path.basename(m4a_file_path))[0]\n",
    "    output_text_file = os.path.join(output_folder, f\"{base_name}_transcription.txt\")\n",
    "\n",
    "    # Convert m4a file to wav\n",
    "    audio = AudioSegment.from_file(m4a_file_path, format=\"m4a\")\n",
    "\n",
    "    # Initialise the recognizer\n",
    "    r = sr.Recognizer()\n",
    "\n",
    "    # Create a graphical progress bar in Jupyter Notebook\n",
    "    progress = tqdm(total=len(audio), desc=f\"Processing {m4a_file_path}\")\n",
    "\n",
    "    # Open the text file for writing transcriptions\n",
    "    with open(output_text_file, 'a') as file:\n",
    "        for i in range(0, len(audio), 30000):  # Process in 30-second chunks\n",
    "            chunk = audio[i:i+30000]\n",
    "            chunk_name = os.path.join(output_folder, f\"{base_name}_chunk{i//30000}.wav\")\n",
    "            chunk.export(chunk_name, format=\"wav\")\n",
    "\n",
    "            with sr.AudioFile(chunk_name) as source:\n",
    "                audio_data = r.record(source)\n",
    "            try:\n",
    "                text = r.recognize_google(audio_data)\n",
    "                print(f\"Writing Chunk {i//30000} transcription to file.\")\n",
    "                file.write(text + \" \")\n",
    "                file.flush()  # Flush the written text to disk\n",
    "            except sr.UnknownValueError:\n",
    "                print(f\"Chunk {i//30000}: Google Speech Recognition could not understand audio\")\n",
    "            except sr.RequestError as e:\n",
    "                print(f\"Chunk {i//30000}: Could not request results from Google Speech Recognition service; {0}\".format(e))\n",
    "            # Delete the temporary chunk file\n",
    "            os.remove(chunk_name)\n",
    "\n",
    "            # Update the graphical progress bar in Jupyter Notebook\n",
    "            progress.update(len(chunk))\n",
    "\n",
    "    progress.close()  # Close the progress bar when done\n",
    "\n",
    "# Specify the input and output folders\n",
    "input_folder = \"Data\"\n",
    "output_folder = os.path.join(input_folder, \"Transcription\")\n",
    "\n",
    "# Ensure the output folder exists\n",
    "os.makedirs(output_folder, exist_ok=True)\n",
    "\n",
    "# Get a list of all M4A files in the input folder\n",
    "m4a_files = [f for f in os.listdir(input_folder) if f.endswith(\".m4a\")]\n",
    "\n",
    "# Process all M4A files in the input folder\n",
    "for m4a_file in m4a_files:\n",
    "    m4a_file_path = os.path.join(input_folder, m4a_file)\n",
    "    convert_and_chunk(m4a_file_path, output_folder)"
   ]
  },
  {
   "cell_type": "code",
   "execution_count": null,
   "metadata": {},
   "outputs": [],
   "source": []
  }
 ],
 "metadata": {
  "kernelspec": {
   "display_name": "Python 3",
   "language": "python",
   "name": "python3"
  },
  "language_info": {
   "codemirror_mode": {
    "name": "ipython",
    "version": 3
   },
   "file_extension": ".py",
   "mimetype": "text/x-python",
   "name": "python",
   "nbconvert_exporter": "python",
   "pygments_lexer": "ipython3",
   "version": "3.9.6"
  }
 },
 "nbformat": 4,
 "nbformat_minor": 2
}
