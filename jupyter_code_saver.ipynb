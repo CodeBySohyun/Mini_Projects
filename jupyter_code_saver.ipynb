{
 "cells": [
  {
   "cell_type": "code",
   "execution_count": null,
   "metadata": {},
   "outputs": [],
   "source": [
    "import os\n",
    "import nbformat\n",
    "\n",
    "# The path to the Jupyter notebook file\n",
    "notebook_path = 'YOUR_MODEL_PATH_HERE/notebook.ipynb'\n",
    "\n",
    "# The desired name for the output Python script is derived from the notebook name\n",
    "output_script_name = notebook_path.split('/')[-1].replace('.ipynb', '.py')\n",
    "\n",
    "# Read the notebook content\n",
    "output_dir = os.path.dirname(os.path.abspath('__file__'))  # Directory of the current script\n",
    "with open(notebook_path, 'r', encoding='utf-8') as f:\n",
    "    notebook_content = nbformat.read(f, as_version=4)\n",
    "\n",
    "# Extract code cells\n",
    "code_cells = [cell for cell in notebook_content.cells if cell.cell_type == 'code']\n",
    "\n",
    "# Write the extracted code to a Python script in the same directory as this script\n",
    "with open(os.path.join(output_dir, output_script_name), 'w', encoding='utf-8') as f:\n",
    "    for cell in code_cells:\n",
    "        # Write each code cell to the file\n",
    "        f.write('# ' + '-'*20 + '\\n')\n",
    "        f.write('# Cell\\n')\n",
    "        f.write(cell.source + '\\n\\n')\n",
    "\n",
    "print(f\"Python code has been extracted to {output_script_name}\")"
   ]
  }
 ],
 "metadata": {
  "kernelspec": {
   "display_name": "Python 3",
   "language": "python",
   "name": "python3"
  },
  "language_info": {
   "codemirror_mode": {
    "name": "ipython",
    "version": 3
   },
   "file_extension": ".py",
   "mimetype": "text/x-python",
   "name": "python",
   "nbconvert_exporter": "python",
   "pygments_lexer": "ipython3",
   "version": "3.9.6"
  }
 },
 "nbformat": 4,
 "nbformat_minor": 2
}
